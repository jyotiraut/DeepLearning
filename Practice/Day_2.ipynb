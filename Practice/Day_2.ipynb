{
 "cells": [
  {
   "cell_type": "code",
   "execution_count": 7,
   "id": "c5fa78ee",
   "metadata": {},
   "outputs": [],
   "source": [
    "import numpy as np"
   ]
  },
  {
   "cell_type": "code",
   "execution_count": 8,
   "id": "838ac2dd",
   "metadata": {},
   "outputs": [],
   "source": [
    " a = np.array([[2,3,4],\n",
    "             [6,7,8]])\n",
    "    \n",
    " b = np.array([[2,3],[3,4],[6,7]])"
   ]
  },
  {
   "cell_type": "code",
   "execution_count": 9,
   "id": "88f72377",
   "metadata": {},
   "outputs": [
    {
     "name": "stdout",
     "output_type": "stream",
     "text": [
      "(2, 3)\n",
      "(3, 2)\n",
      "[[ 37  46]\n",
      " [ 81 102]]\n"
     ]
    }
   ],
   "source": [
    "print(a.shape)\n",
    "print(b.shape)\n",
    "print(np.matmul(a,b))"
   ]
  },
  {
   "cell_type": "markdown",
   "id": "0eacd5e7",
   "metadata": {},
   "source": [
    "Einsum"
   ]
  },
  {
   "cell_type": "code",
   "execution_count": 11,
   "id": "5f8e0eb7",
   "metadata": {},
   "outputs": [
    {
     "name": "stdout",
     "output_type": "stream",
     "text": [
      "Einsum: C\n",
      "[[ 37  46]\n",
      " [ 81 102]]\n"
     ]
    }
   ],
   "source": [
    "print(\"Einsum: C\")\n",
    "print(np.einsum(\"ij,jk->ik\",a,b))"
   ]
  },
  {
   "cell_type": "code",
   "execution_count": 12,
   "id": "9630ca88",
   "metadata": {},
   "outputs": [
    {
     "name": "stdout",
     "output_type": "stream",
     "text": [
      "Einsum Transpose:\n",
      "[[2 6]\n",
      " [3 7]\n",
      " [4 8]]\n"
     ]
    }
   ],
   "source": [
    "print(\"Einsum Transpose:\")\n",
    "print(np.einsum(\"ij->ji\",a))"
   ]
  },
  {
   "cell_type": "markdown",
   "id": "d1f282f8",
   "metadata": {},
   "source": [
    "# Common Functions in Tenserflow"
   ]
  },
  {
   "cell_type": "code",
   "execution_count": 31,
   "id": "ef06279a",
   "metadata": {},
   "outputs": [
    {
     "name": "stdout",
     "output_type": "stream",
     "text": [
      "(3,)\n",
      "tf.Tensor([[2 3 4]], shape=(1, 3), dtype=int32)\n"
     ]
    }
   ],
   "source": [
    "import tensorflow as tf\n",
    "x = tf.constant([2,3,4])\n",
    "print(x.shape)\n",
    "print(tf.expand_dims(x,axis=0))"
   ]
  },
  {
   "cell_type": "code",
   "execution_count": 17,
   "id": "587c2fda",
   "metadata": {},
   "outputs": [
    {
     "name": "stdout",
     "output_type": "stream",
     "text": [
      "tf.Tensor([2 3 4 4 5 6], shape=(6,), dtype=int32)\n"
     ]
    }
   ],
   "source": [
    "x = tf.constant([[2,3,4],[4,5,6]])\n",
    "print(tf.reshape(x,[-1]))"
   ]
  },
  {
   "cell_type": "code",
   "execution_count": 18,
   "id": "d7c71a7b",
   "metadata": {},
   "outputs": [],
   "source": [
    "a = tf.constant([1, 2])\n",
    "b = tf.constant([3, 4])"
   ]
  },
  {
   "cell_type": "code",
   "execution_count": 19,
   "id": "60679479",
   "metadata": {},
   "outputs": [],
   "source": [
    "result = tf.stack([a, b])"
   ]
  },
  {
   "cell_type": "code",
   "execution_count": 27,
   "id": "b3458cea",
   "metadata": {},
   "outputs": [
    {
     "name": "stdout",
     "output_type": "stream",
     "text": [
      "<tf.RaggedTensor [[1, 2, 4], [3, 4]]>\n"
     ]
    }
   ],
   "source": [
    "x = tf.ragged.constant([[1, 2, 4], [3, 4]])  \n",
    "print(x)"
   ]
  },
  {
   "cell_type": "code",
   "execution_count": 29,
   "id": "06c40b4d",
   "metadata": {},
   "outputs": [
    {
     "name": "stdout",
     "output_type": "stream",
     "text": [
      "<tf.RaggedTensor [[1, 2, 4], [3, 4]]>\n"
     ]
    }
   ],
   "source": [
    "print(x)"
   ]
  },
  {
   "cell_type": "code",
   "execution_count": 33,
   "id": "abf1c6df",
   "metadata": {},
   "outputs": [
    {
     "data": {
      "text/plain": [
       "<tf.Tensor: shape=(2,), dtype=int32, numpy=array([4, 5])>"
      ]
     },
     "execution_count": 33,
     "metadata": {},
     "output_type": "execute_result"
    }
   ],
   "source": [
    "s = tf.constant([\"hell\", \"world\"])\n",
    "tf.strings.length(s)\n",
    "\n"
   ]
  },
  {
   "cell_type": "code",
   "execution_count": 34,
   "id": "e1dc02de",
   "metadata": {},
   "outputs": [],
   "source": [
    "st = tf.sparse.SparseTensor(indices=[[0, 1], [2, 3]],\n",
    "                            values=[10, 20],\n",
    "                            dense_shape=[3, 4])\n",
    "\n"
   ]
  },
  {
   "cell_type": "code",
   "execution_count": 35,
   "id": "010b7549",
   "metadata": {},
   "outputs": [
    {
     "name": "stdout",
     "output_type": "stream",
     "text": [
      "SparseTensor(indices=tf.Tensor(\n",
      "[[0 1]\n",
      " [2 3]], shape=(2, 2), dtype=int64), values=tf.Tensor([10 20], shape=(2,), dtype=int32), dense_shape=tf.Tensor([3 4], shape=(2,), dtype=int64))\n"
     ]
    }
   ],
   "source": [
    "print(st)"
   ]
  },
  {
   "cell_type": "code",
   "execution_count": 41,
   "id": "0d941d4a",
   "metadata": {},
   "outputs": [],
   "source": [
    "x = tf.constant([[1, 2], [3, 4]])\n",
    "padded = tf.pad(x, paddings=[[1, 2], [2, 3]], constant_values=0)"
   ]
  },
  {
   "cell_type": "code",
   "execution_count": 42,
   "id": "12798b82",
   "metadata": {},
   "outputs": [
    {
     "name": "stdout",
     "output_type": "stream",
     "text": [
      "tf.Tensor(\n",
      "[[0 0 0 0 0 0 0]\n",
      " [0 0 1 2 0 0 0]\n",
      " [0 0 3 4 0 0 0]\n",
      " [0 0 0 0 0 0 0]\n",
      " [0 0 0 0 0 0 0]], shape=(5, 7), dtype=int32)\n"
     ]
    }
   ],
   "source": [
    "print(padded)"
   ]
  },
  {
   "cell_type": "code",
   "execution_count": 46,
   "id": "a8e88522",
   "metadata": {},
   "outputs": [],
   "source": [
    "x = tf.constant([[10, 11], [20, 21], [30, 31]])\n",
    "result = tf.gather(x, indices=[0, 1])"
   ]
  },
  {
   "cell_type": "code",
   "execution_count": 47,
   "id": "4c7ca05b",
   "metadata": {},
   "outputs": [
    {
     "name": "stdout",
     "output_type": "stream",
     "text": [
      "tf.Tensor(\n",
      "[[10 11]\n",
      " [20 21]], shape=(2, 2), dtype=int32)\n"
     ]
    }
   ],
   "source": [
    "print(result)"
   ]
  },
  {
   "cell_type": "code",
   "execution_count": 53,
   "id": "a4e6a535",
   "metadata": {},
   "outputs": [
    {
     "name": "stdout",
     "output_type": "stream",
     "text": [
      "(1, 3, 2)\n",
      "(3, 2)\n",
      "tf.Tensor(\n",
      "[[1 2]\n",
      " [2 2]\n",
      " [3 4]], shape=(3, 2), dtype=int32)\n"
     ]
    }
   ],
   "source": [
    "x = tf.constant([[[1,2], [2,2], [3,4]]])\n",
    "print(x.shape)\n",
    "squeezed = tf.squeeze(x)\n",
    "print(squeezed.shape)\n",
    "print(squeezed)"
   ]
  },
  {
   "cell_type": "code",
   "execution_count": 64,
   "id": "2f3f84d4",
   "metadata": {},
   "outputs": [
    {
     "name": "stdout",
     "output_type": "stream",
     "text": [
      "tf.Tensor(\n",
      "[[1 2]\n",
      " [4 3]\n",
      " [4 5]], shape=(3, 2), dtype=int32)\n"
     ]
    }
   ],
   "source": [
    "x = tf.constant([[1, 2,4], [3, 4,5]])\n",
    "reshaped = tf.reshape(x, shape=(3,2))\n",
    "print(reshaped)"
   ]
  },
  {
   "cell_type": "markdown",
   "id": "80287e2b",
   "metadata": {},
   "source": [
    "# Variables"
   ]
  },
  {
   "cell_type": "code",
   "execution_count": 65,
   "id": "40b61f67",
   "metadata": {},
   "outputs": [
    {
     "name": "stdout",
     "output_type": "stream",
     "text": [
      "<tf.Variable 'Variable:0' shape=() dtype=int32, numpy=10>\n"
     ]
    }
   ],
   "source": [
    "v = tf.Variable(10)\n",
    "print(v)"
   ]
  },
  {
   "cell_type": "code",
   "execution_count": 66,
   "id": "ccf79b57",
   "metadata": {},
   "outputs": [
    {
     "name": "stdout",
     "output_type": "stream",
     "text": [
      "<tf.Variable 'Variable:0' shape=() dtype=int32, numpy=20>\n"
     ]
    }
   ],
   "source": [
    "v.assign(20)\n",
    "print(v)"
   ]
  },
  {
   "cell_type": "code",
   "execution_count": 67,
   "id": "deed88ef",
   "metadata": {},
   "outputs": [
    {
     "name": "stdout",
     "output_type": "stream",
     "text": [
      "<tf.Variable 'Variable:0' shape=() dtype=int32, numpy=24>\n"
     ]
    }
   ],
   "source": [
    "v.assign_add(4)\n",
    "print(v)"
   ]
  },
  {
   "cell_type": "code",
   "execution_count": 70,
   "id": "881bb6be",
   "metadata": {},
   "outputs": [
    {
     "name": "stdout",
     "output_type": "stream",
     "text": [
      "[6.5 8.5]\n"
     ]
    }
   ],
   "source": [
    "w = tf.Variable([2.0, 3.0])\n",
    "b = tf.Variable([0.5, -0.5])\n",
    "output = w * 3 + b\n",
    "print(output.numpy())\n"
   ]
  },
  {
   "cell_type": "code",
   "execution_count": null,
   "id": "8e12179e",
   "metadata": {},
   "outputs": [],
   "source": [
    "!git add .\n"
   ]
  }
 ],
 "metadata": {
  "kernelspec": {
   "display_name": "Python 3 (ipykernel)",
   "language": "python",
   "name": "python3"
  },
  "language_info": {
   "codemirror_mode": {
    "name": "ipython",
    "version": 3
   },
   "file_extension": ".py",
   "mimetype": "text/x-python",
   "name": "python",
   "nbconvert_exporter": "python",
   "pygments_lexer": "ipython3",
   "version": "3.11.2"
  }
 },
 "nbformat": 4,
 "nbformat_minor": 5
}
